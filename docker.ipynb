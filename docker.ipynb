{
    "metadata": {
        "kernelspec": {
            "name": "powershell",
            "display_name": "PowerShell",
            "language": "powershell"
        },
        "language_info": {
            "name": "powershell",
            "codemirror_mode": "shell",
            "mimetype": "text/x-sh",
            "file_extension": ".ps1"
        }
    },
    "nbformat_minor": 2,
    "nbformat": 4,
    "cells": [
        {
            "cell_type": "markdown",
            "source": [
                "# docker\n",
                "\n",
                "This repo holds the Docker compose code that was used to create the images featured on [dbatools.io/docker](https://dbatools.io/docker).\n",
                "\n",
                "It's intended not only to help test out dbatools, but to also explore the creation of SQL Server-based containers for your own environment. The compose code is heavily commented and the repo is a work in progress as I'm also learning. Suggestions for improvement are welcome!\n",
                "\n",
                "To read about the things I learned while creating these containers, along with tips and tricks, [visit the wiki](https://github.com/potatoqualitee/docker/wiki).\n",
                "\n",
                "## Get started\n",
                "\n",
                "To get started and see the containers built in real-time, first clone this repo, then build the base images and containers using `docker-compose`. You can also use `docker compose` without the dash if you use Docker Desktop, as explained on '[Difference between \"docker compose\" and \"docker-compose\"](https://stackoverflow.com/questions/66514436/difference-between-docker-compose-and-docker-compose).'"
            ],
            "metadata": {
                "azdata_cell_guid": "a49d9426-424d-4cec-9e3b-f06d6d976809"
            },
            "attachments": {}
        },
        {
            "cell_type": "code",
            "source": [
                "git clone https://www.github.com/potatoqualitee/docker\r\n",
                "cd docker\\sqlinstance\r\n",
                "docker-compose up -d"
            ],
            "metadata": {
                "azdata_cell_guid": "3fa01f43-07b4-48ea-8073-e36318aee834"
            },
            "outputs": [],
            "execution_count": null
        },
        {
            "cell_type": "markdown",
            "source": [
                "\r\n",
                "This will pull the SQL Server images from Microsoft's repo, then add a bunch of test objects (databases, logins, jobs, etc) using bash and sql files in this repo, and then make them available for you to connect to on the default port 1433 for the first instance and port 14333 for the second instance.\r\n",
                "\r\n",
                "Note:  If you're using ARM architecture (Apple M1 or Raspberry Pi), none of the High Availability commands will work, as ARM is only supported by SQL Edge, which is limited.\r\n",
                "\r\n",
                "## Time to play 🎉\r\n",
                "\r\n",
                "Now we are setup to test commands against your two containers! You can login via [SQL Server Management Studio](https://sqlps.io/dl) or [Azure Data Studio](https://docs.microsoft.com/en-us/sql/azure-data-studio/download?view=sql-server-2017) if you’d like to take a look first. The server name is `localhost` for the first instance and `localhost,14333` for the second instance), the username is `sqladmin` and the password is `dbatools.IO`\r\n",
                "\r\n",
                "![image](https://user-images.githubusercontent.com/8278033/142866226-35a5113b-4297-4e66-9c32-4d02e2f0a0d0.png)\r\n",
                "\r\n",
                "Note that dbatools supports both using commas and colons to designate a port. When you use a comma, however, you must also use quotes: `'localhost,14333'`. When using dbatools, we recommend just using `localhost:14333`."
            ],
            "metadata": {
                "azdata_cell_guid": "6c039453-e9f2-4c07-90d5-f61cd4ec4d6e"
            }
        },
        {
            "cell_type": "code",
            "source": [
                "\r\n",
                "$cred = Get-Credential sqladmin\r\n",
                "Connect-DbaInstance -SqlInstance localhost, localhost:14333 -SqlCredential $cred"
            ],
            "metadata": {
                "azdata_cell_guid": "39fee3bf-f20a-43d1-a859-dbfa29b325ca"
            },
            "outputs": [],
            "execution_count": null
        },
        {
            "cell_type": "markdown",
            "source": [
                "If you'd like to test more commands, check out [dbatools and docker (updated!)](https://dbatools.io/docker)\r\n",
                "\r\n",
                "To stop the containers, run the following command in the docker\\sqlinstance directory:"
            ],
            "metadata": {
                "azdata_cell_guid": "387fa97a-6aaf-4bcb-8e2f-92408e04cc90"
            }
        },
        {
            "cell_type": "code",
            "source": [
                "docker compose down"
            ],
            "metadata": {
                "azdata_cell_guid": "44fef51e-e36b-4787-a153-f53f5aab686b"
            },
            "outputs": [],
            "execution_count": null
        },
        {
            "cell_type": "markdown",
            "source": [
                "And if you'd like to remove the persisent volume it created for the containers to share data, use `--volumes`"
            ],
            "metadata": {
                "azdata_cell_guid": "80d6930a-581f-4310-872f-0a8e0267c97e"
            },
            "attachments": {}
        },
        {
            "cell_type": "code",
            "source": [
                "docker compose down --volumes"
            ],
            "metadata": {
                "azdata_cell_guid": "578e3282-9f2e-4417-8e76-88269cdee6c0"
            },
            "outputs": [],
            "execution_count": null
        },
        {
            "cell_type": "markdown",
            "source": [
                "## Remove everything\r\n",
                "\r\n",
                "If you want to uninstall, or start from a \"clean\" installation, docker compose can remove all the containers and volumes in one command."
            ],
            "metadata": {
                "azdata_cell_guid": "57352d28-ed76-4092-bb0b-3374c614975f"
            }
        },
        {
            "cell_type": "code",
            "source": [
                "docker builder prune -a -f\r\n",
                "docker compose down --remove-orphans --volumes\r\n",
                "docker rmi $(docker images -q \"dbatools\\/*\")"
            ],
            "metadata": {
                "azdata_cell_guid": "0000eb93-3c3b-4996-95dd-23241bc5b46e"
            },
            "outputs": [],
            "execution_count": null
        },
        {
            "cell_type": "markdown",
            "source": [
                "## Resources\r\n",
                "\r\n",
                "Some of the best resources I found included:\r\n",
                "\r\n",
                "* [Top 20 Dockerfile best practices (sysdig)](https://sysdig.com/blog/Dockerfile-best-practices)\r\n",
                "* [Multi-arch build and images, the simple way](https://www.docker.com/blog/multi-arch-build-and-images-the-simple-way/)\r\n",
                "\r\n",
                "Repos\r\n",
                "* [dbafromthecold/SqlServerAndContainersGuide](https://github.com/dbafromthecold/SqlServerAndContainersGuide/tree/master/Code/6.DockerCompose/Advanced)\r\n",
                "* [twright-msft/mssql-node-docker-demo-app](https://github.com/twright-msft/mssql-node-docker-demo-app)\r\n",
                "* [jessfraz/Dockerfiles](https://github.com/jessfraz/Dockerfiles)\r\n",
                "* [edemaine/kadira-compose](https://github.com/edemaine/kadira-compose)\r\n",
                "* [vicrem/mssql](https://github.com/vicrem/mssql/blob/master/docker-compose.yml)\r\n",
                "* [microsoft/go-sqlcmd](https://github.com/microsoft/go-sqlcmd/)\r\n",
                "* [microsoft/mssql-docker](https://github.com/microsoft/mssql-docker/tree/master/linux/preview/examples/mssql-customize)\r\n",
                "\r\n",
                ""
            ],
            "metadata": {
                "azdata_cell_guid": "3b8756aa-2863-485e-bfd6-7a93d3d644ee"
            }
        }
    ]
}